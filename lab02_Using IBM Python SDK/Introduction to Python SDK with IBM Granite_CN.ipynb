{
 "cells": [
  {
   "cell_type": "markdown",
   "metadata": {
    "pycharm": {
     "name": "#%% md\n"
    }
   },
   "source": [
    "![image](https://raw.githubusercontent.com/IBM/watson-machine-learning-samples/master/cloud/notebooks/headers/watsonx-Prompt_Lab-Notebook.png)\n",
    "# 使用 watsonx 和 `ibm/granite-13b-instruct-v1` 等基础模型从文本分析租车用户满意度"
   ]
  },
  {
   "cell_type": "markdown",
   "metadata": {
    "pycharm": {
     "name": "#%% md\n"
    }
   },
   "source": [
    "#### 声明\n",
    "\n",
    "- 仅使用在watsonx可用的项目和空间。\n",
    "\n",
    "\n",
    "## Notebook内容\n",
    "\n",
    "这篇notebook包含步骤和代码，支持演示在watsonx中进行文本情感分析。介绍数据获取、模型测试和评分。\n",
    "对于Python有一定的熟练度会有帮助。这篇notebook使用Pythong 3.10。\n",
    "\n",
    "\n",
    "## 学习目标\n",
    "\n",
    "这篇notebook的目标是演示如何使用`ibm/granite-13b-instruct-v1`模型从文本来分析用户满意度。\n",
    "\n",
    "\n",
    "## 内容\n",
    "\n",
    "这篇notebook包含下列部分：\n",
    "\n",
    "- [配置](#setup)\n",
    "- [导入数据](#data)\n",
    "- [watsonx的基础模型](#models)\n",
    "- [模型测试](#predict)\n",
    "- [评分](#score)\n",
    "- [总结](#summary)"
   ]
  },
  {
   "cell_type": "markdown",
   "metadata": {
    "pycharm": {
     "name": "#%% md\n"
    }
   },
   "source": [
    "<a id=\"setup\"></a>\n",
    "## 配置环境\n",
    "\n",
    "在开始使用notebook的示例代码之前，需要完成下列配置任务：\n",
    "\n",
    "-  关联一个 <a href=\"https://console.ng.bluemix.net/catalog/services/ibm-watson-machine-learning/\" target=\"_blank\" rel=\"noopener no referrer\">Watson Machine Learning (WML) Service</a> 实例 (关于如何创建实例的信息 <a href=\"https://dataplatform.cloud.ibm.com/docs/content/wsj/analyze-data/ml-service-instance.html?context=analytics\" target=\"_blank\" rel=\"noopener no referrer\">here</a>).\n"
   ]
  },
  {
   "cell_type": "markdown",
   "metadata": {
    "pycharm": {
     "name": "#%% md\n"
    }
   },
   "source": [
    "### 安装并导入 `datasets` 和依赖包"
   ]
  },
  {
   "cell_type": "code",
   "execution_count": 1,
   "metadata": {
    "pycharm": {
     "is_executing": true,
     "name": "#%%\n"
    },
    "tags": []
   },
   "outputs": [
    {
     "name": "stdout",
     "output_type": "stream",
     "text": [
      "Successfully installed wget-3.2\n",
      "Note: you may need to restart the kernel to use updated packages.\n",
      "Successfully installed datasets-2.14.6 dill-0.3.7 multiprocess-0.70.15 xxhash-3.4.1\n",
      "Note: you may need to restart the kernel to use updated packages.\n",
      "Requirement already satisfied: threadpoolctl>=2.0.0 in /Users/jingyiwang/anaconda3/envs/wxai/lib/python3.11/site-packages (from scikit-learn) (3.1.0)\n",
      "Note: you may need to restart the kernel to use updated packages.\n",
      "Successfully installed ibm-cos-sdk-2.13.2 ibm-cos-sdk-core-2.13.2 ibm-cos-sdk-s3transfer-2.13.2 ibm-watson-machine-learning-1.0.327 jmespath-1.0.1 lomond-0.3.3 pandas-1.5.3\n",
      "Note: you may need to restart the kernel to use updated packages.\n"
     ]
    }
   ],
   "source": [
    "%pip install wget | tail -n 1\n",
    "%pip install datasets | tail -n 1\n",
    "%pip install scikit-learn | tail -n 1\n",
    "%pip install \"ibm-watson-machine-learning>=1.0.326\" | tail -n 1"
   ]
  },
  {
   "cell_type": "markdown",
   "metadata": {
    "pycharm": {
     "name": "#%% md\n"
    }
   },
   "source": [
    "### 定义 WML credentials\n",
    "这个单元定义使用watsonx基础模型推理所需要的WML credentials。\n",
    "\n",
    "**操作:** 提供IBM Cloud用户API Key，详情参考\n",
    "[documentation](https://cloud.ibm.com/docs/account?topic=account-userapikey&interface=ui)."
   ]
  },
  {
   "cell_type": "code",
   "execution_count": 2,
   "metadata": {
    "pycharm": {
     "name": "#%%\n"
    },
    "tags": []
   },
   "outputs": [
    {
     "name": "stdin",
     "output_type": "stream",
     "text": [
      "Please enter your WML api key (hit enter):  ········\n"
     ]
    }
   ],
   "source": [
    "import getpass\n",
    "\n",
    "credentials = {\n",
    "    \"url\": \"https://us-south.ml.cloud.ibm.com\",\n",
    "    \"apikey\": getpass.getpass(\"Please enter your WML api key (hit enter): \")\n",
    "}"
   ]
  },
  {
   "cell_type": "markdown",
   "metadata": {
    "pycharm": {
     "name": "#%% md\n"
    }
   },
   "source": [
    "### 定义 project id\n",
    "基础模型需要project id，用于给模型调用提供上下文信息。我们将从运行此笔记本的项目中获取id。否则，请另外提供project id。"
   ]
  },
  {
   "cell_type": "code",
   "execution_count": 3,
   "metadata": {
    "pycharm": {
     "name": "#%%\n"
    },
    "tags": []
   },
   "outputs": [
    {
     "name": "stdin",
     "output_type": "stream",
     "text": [
      "Please enter your project_id (hit enter):  54428a2c-4b11-491e-a32b-12575fa676e2\n"
     ]
    }
   ],
   "source": [
    "import os\n",
    "\n",
    "try:\n",
    "    project_id = os.environ[\"PROJECT_ID\"]\n",
    "except KeyError:\n",
    "    project_id = input(\"Please enter your project_id (hit enter): \")"
   ]
  },
  {
   "cell_type": "markdown",
   "metadata": {
    "pycharm": {
     "name": "#%% md\n"
    }
   },
   "source": [
    "<a id=\"data\"></a>\n",
    "## 数据导入"
   ]
  },
  {
   "cell_type": "markdown",
   "metadata": {
    "pycharm": {
     "name": "#%% md\n"
    }
   },
   "source": [
    "下载`car_rental_training_data` 数据集. 该数据集提供了有关客户对汽车租赁反馈的洞察。它包含一个标签内容：不满意、满意。"
   ]
  },
  {
   "cell_type": "code",
   "execution_count": 4,
   "metadata": {
    "pycharm": {
     "name": "#%%\n"
    },
    "tags": []
   },
   "outputs": [
    {
     "name": "stdout",
     "output_type": "stream",
     "text": [
      "100% [..........................................................] 79518 / 79518"
     ]
    }
   ],
   "source": [
    "import wget\n",
    "import pandas as pd\n",
    "\n",
    "filename = 'car_rental_training_data.csv'\n",
    "url = 'https://raw.githubusercontent.com/IBM/watson-machine-learning-samples/master/cloud/data/cars-4-you/car_rental_training_data.csv'\n",
    "\n",
    "if not os.path.isfile(filename): \n",
    "    wget.download(url, out=filename)\n",
    "\n",
    "df = pd.read_csv(\"car_rental_training_data.csv\", sep=';')\n",
    "data = df[['Customer_Service', 'Satisfaction']]"
   ]
  },
  {
   "cell_type": "markdown",
   "metadata": {
    "pycharm": {
     "name": "#%% md\n"
    }
   },
   "source": [
    "查看下载的数据。"
   ]
  },
  {
   "cell_type": "code",
   "execution_count": 5,
   "metadata": {
    "pycharm": {
     "name": "#%%\n"
    },
    "tags": []
   },
   "outputs": [
    {
     "data": {
      "text/html": [
       "<div>\n",
       "<style scoped>\n",
       "    .dataframe tbody tr th:only-of-type {\n",
       "        vertical-align: middle;\n",
       "    }\n",
       "\n",
       "    .dataframe tbody tr th {\n",
       "        vertical-align: top;\n",
       "    }\n",
       "\n",
       "    .dataframe thead th {\n",
       "        text-align: right;\n",
       "    }\n",
       "</style>\n",
       "<table border=\"1\" class=\"dataframe\">\n",
       "  <thead>\n",
       "    <tr style=\"text-align: right;\">\n",
       "      <th></th>\n",
       "      <th>Customer_Service</th>\n",
       "      <th>Satisfaction</th>\n",
       "    </tr>\n",
       "  </thead>\n",
       "  <tbody>\n",
       "    <tr>\n",
       "      <th>0</th>\n",
       "      <td>I thought the representative handled the initi...</td>\n",
       "      <td>0</td>\n",
       "    </tr>\n",
       "    <tr>\n",
       "      <th>1</th>\n",
       "      <td>I have had a few recent rentals that have take...</td>\n",
       "      <td>0</td>\n",
       "    </tr>\n",
       "    <tr>\n",
       "      <th>2</th>\n",
       "      <td>car cost more because I didn't pay when I rese...</td>\n",
       "      <td>0</td>\n",
       "    </tr>\n",
       "    <tr>\n",
       "      <th>3</th>\n",
       "      <td>I didn't get the car I was told would be avail...</td>\n",
       "      <td>0</td>\n",
       "    </tr>\n",
       "    <tr>\n",
       "      <th>4</th>\n",
       "      <td>If there was not a desired vehicle available t...</td>\n",
       "      <td>1</td>\n",
       "    </tr>\n",
       "  </tbody>\n",
       "</table>\n",
       "</div>"
      ],
      "text/plain": [
       "                                    Customer_Service  Satisfaction\n",
       "0  I thought the representative handled the initi...             0\n",
       "1  I have had a few recent rentals that have take...             0\n",
       "2  car cost more because I didn't pay when I rese...             0\n",
       "3  I didn't get the car I was told would be avail...             0\n",
       "4  If there was not a desired vehicle available t...             1"
      ]
     },
     "execution_count": 5,
     "metadata": {},
     "output_type": "execute_result"
    }
   ],
   "source": [
    "data.head()"
   ]
  },
  {
   "cell_type": "markdown",
   "metadata": {
    "pycharm": {
     "name": "#%% md\n"
    }
   },
   "source": [
    "准备训练和测试数据集。"
   ]
  },
  {
   "cell_type": "code",
   "execution_count": 6,
   "metadata": {
    "pycharm": {
     "name": "#%%\n"
    },
    "tags": []
   },
   "outputs": [],
   "source": [
    "from sklearn.model_selection import train_test_split\n",
    "\n",
    "train, test = train_test_split(data, test_size=0.2)\n",
    "comments = list(test.Customer_Service)\n",
    "satisfaction = list(test.Satisfaction)"
   ]
  },
  {
   "cell_type": "code",
   "execution_count": 7,
   "metadata": {
    "tags": []
   },
   "outputs": [
    {
     "data": {
      "text/plain": [
       "(98, 2)"
      ]
     },
     "execution_count": 7,
     "metadata": {},
     "output_type": "execute_result"
    }
   ],
   "source": [
    "test.shape"
   ]
  },
  {
   "cell_type": "markdown",
   "metadata": {
    "pycharm": {
     "name": "#%% md\n"
    }
   },
   "source": [
    "<a id=\"models\"></a>\n",
    "## `watsonx.ai`的基础模型"
   ]
  },
  {
   "cell_type": "markdown",
   "metadata": {
    "pycharm": {
     "name": "#%% md\n"
    }
   },
   "source": [
    "#### 列出可用的模型\n",
    "\n",
    "所有可用的模型都显示在ModelTypes类别下。\n",
    "更多信息可参考 [documentation](https://ibm.github.io/watson-machine-learning-sdk/foundation_models.html#ibm_watson_machine_learning.foundation_models.utils.enums.ModelTypes)."
   ]
  },
  {
   "cell_type": "code",
   "execution_count": 8,
   "metadata": {
    "pycharm": {
     "name": "#%%\n"
    },
    "tags": []
   },
   "outputs": [
    {
     "name": "stdout",
     "output_type": "stream",
     "text": [
      "['FLAN_T5_XXL', 'FLAN_UL2', 'MT0_XXL', 'GPT_NEOX', 'MPT_7B_INSTRUCT2', 'STARCODER', 'LLAMA_2_70B_CHAT', 'GRANITE_13B_INSTRUCT', 'GRANITE_13B_CHAT']\n"
     ]
    }
   ],
   "source": [
    "from ibm_watson_machine_learning.foundation_models.utils.enums import ModelTypes\n",
    "\n",
    "print([model.name for model in ModelTypes])"
   ]
  },
  {
   "cell_type": "markdown",
   "metadata": {
    "pycharm": {
     "name": "#%% md\n"
    }
   },
   "source": [
    "需要定义用于模型推理的 `model_id`:"
   ]
  },
  {
   "cell_type": "code",
   "execution_count": 9,
   "metadata": {
    "pycharm": {
     "name": "#%%\n"
    },
    "tags": []
   },
   "outputs": [],
   "source": [
    "model_id = ModelTypes.GRANITE_13B_INSTRUCT"
   ]
  },
  {
   "cell_type": "markdown",
   "metadata": {
    "pycharm": {
     "name": "#%% md\n"
    }
   },
   "source": [
    "### 定义模型参数\n",
    "\n",
    "你可能需要调整模型 `parameters` 用于不同的模型和任务, 请参考 [documentation](https://ibm.github.io/watson-machine-learning-sdk/foundation_models.html#metanames.GenTextParamsMetaNames)."
   ]
  },
  {
   "cell_type": "code",
   "execution_count": 10,
   "metadata": {
    "pycharm": {
     "name": "#%%\n"
    },
    "tags": []
   },
   "outputs": [],
   "source": [
    "from ibm_watson_machine_learning.metanames import GenTextParamsMetaNames as GenParams\n",
    "from ibm_watson_machine_learning.foundation_models.utils.enums import DecodingMethods\n",
    "\n",
    "parameters = {\n",
    "    GenParams.MIN_NEW_TOKENS: 0,\n",
    "    GenParams.MAX_NEW_TOKENS: 1,\n",
    "    GenParams.DECODING_METHOD: DecodingMethods.GREEDY,\n",
    "    GenParams.REPETITION_PENALTY: 1\n",
    "}"
   ]
  },
  {
   "cell_type": "markdown",
   "metadata": {
    "pycharm": {
     "name": "#%% md\n"
    }
   },
   "source": [
    "### 初始化模型\n",
    "用之前定义的参数初始化 `Model` 类。"
   ]
  },
  {
   "cell_type": "code",
   "execution_count": 11,
   "metadata": {
    "pycharm": {
     "name": "#%%\n"
    },
    "tags": []
   },
   "outputs": [],
   "source": [
    "from ibm_watson_machine_learning.foundation_models import Model\n",
    "\n",
    "model = Model(\n",
    "    model_id=model_id, \n",
    "    params=parameters, \n",
    "    credentials=credentials,\n",
    "    project_id=project_id)"
   ]
  },
  {
   "cell_type": "markdown",
   "metadata": {
    "pycharm": {
     "name": "#%% md\n"
    }
   },
   "source": [
    "### 模型细节"
   ]
  },
  {
   "cell_type": "code",
   "execution_count": 12,
   "metadata": {
    "pycharm": {
     "name": "#%%\n"
    },
    "tags": []
   },
   "outputs": [
    {
     "data": {
      "text/plain": [
       "{'model_id': 'ibm/granite-13b-instruct-v1',\n",
       " 'label': 'granite-13b-instruct-v1',\n",
       " 'provider': 'IBM',\n",
       " 'source': 'IBM',\n",
       " 'short_description': 'The Granite model series is a family of IBM-trained, dense decoder-only models, which are particularly well-suited for generative tasks.',\n",
       " 'long_description': 'Granite models are designed to be used for a wide range of generative and non-generative tasks with appropriate prompt engineering. They employ a GPT-style decoder-only architecture, with additional innovations from IBM Research and the open community.',\n",
       " 'task_ids': ['question_answering',\n",
       "  'summarization',\n",
       "  'classification',\n",
       "  'generation',\n",
       "  'extraction'],\n",
       " 'tasks': [{'id': 'question_answering', 'ratings': {'quality': 3}},\n",
       "  {'id': 'summarization', 'ratings': {'quality': 2}},\n",
       "  {'id': 'retrieval_augmented_generation', 'ratings': {'quality': 2}},\n",
       "  {'id': 'classification', 'ratings': {'quality': 3}},\n",
       "  {'id': 'generation'},\n",
       "  {'id': 'extraction', 'ratings': {'quality': 2}}],\n",
       " 'model_limits': {'max_sequence_length': 8192},\n",
       " 'limits': {'lite': {'call_time': '5m0s', 'max_output_tokens': 8192},\n",
       "  'v2-professional': {'call_time': '5m0s', 'max_output_tokens': 8192},\n",
       "  'v2-standard': {'call_time': '5m0s', 'max_output_tokens': 8192}},\n",
       " 'min_shot_size': 0,\n",
       " 'tier': 'class_2',\n",
       " 'number_params': '13b'}"
      ]
     },
     "execution_count": 12,
     "metadata": {},
     "output_type": "execute_result"
    }
   ],
   "source": [
    "model.get_details()"
   ]
  },
  {
   "cell_type": "markdown",
   "metadata": {
    "pycharm": {
     "name": "#%% md\n"
    }
   },
   "source": [
    "<a id=\"predict\"></a>\n",
    "## 分析满意度"
   ]
  },
  {
   "cell_type": "markdown",
   "metadata": {
    "jupyter": {
     "outputs_hidden": false
    },
    "pycharm": {
     "name": "#%% md\n"
    }
   },
   "source": [
    "#### 准备提示并生成文本"
   ]
  },
  {
   "cell_type": "code",
   "execution_count": 13,
   "metadata": {
    "pycharm": {
     "name": "#%%\n"
    },
    "tags": []
   },
   "outputs": [],
   "source": [
    "instruction = \"\"\"Determine if the customer was satisfied with the experience based on the comment. Return simple yes or no.\n",
    "Comment:The car was broken. They couldn't find a replacement. I've waster over 2 hours.\n",
    "Satisfied:no\"\"\""
   ]
  },
  {
   "cell_type": "code",
   "execution_count": 14,
   "metadata": {
    "collapsed": false,
    "jupyter": {
     "outputs_hidden": false
    },
    "pycharm": {
     "name": "#%%\n"
    },
    "tags": []
   },
   "outputs": [
    {
     "name": "stdout",
     "output_type": "stream",
     "text": [
      "Determine if the customer was satisfied with the experience based on the comment. Return simple yes or no.\n",
      "Comment:The car was broken. They couldn't find a replacement. I've waster over 2 hours.\n",
      "Satisfied:no\n",
      "Comment:We needed a minivan on very short notice to drive out of town to a funeral.  Enterprise staff worked hard to find us one, and they did. We smashed the car into a parking garage pole.  Since we had purchased the comprehensive insurance we didn't have to go through all of the B.S.\n",
      "Satisfied:\n"
     ]
    }
   ],
   "source": [
    "prompt1 = \"\\n\".join([instruction, \"Comment:\" + comments[2], \"Satisfied:\"])\n",
    "print(prompt1)"
   ]
  },
  {
   "cell_type": "markdown",
   "metadata": {
    "pycharm": {
     "name": "#%% md\n"
    }
   },
   "source": [
    "分析测试数据的情感"
   ]
  },
  {
   "cell_type": "code",
   "execution_count": 15,
   "metadata": {
    "collapsed": false,
    "jupyter": {
     "outputs_hidden": false
    },
    "pycharm": {
     "name": "#%%\n"
    },
    "tags": []
   },
   "outputs": [
    {
     "name": "stdout",
     "output_type": "stream",
     "text": [
      "yes\n"
     ]
    }
   ],
   "source": [
    "print(model.generate_text(prompt=prompt1))"
   ]
  },
  {
   "cell_type": "markdown",
   "metadata": {
    "jupyter": {
     "outputs_hidden": false
    },
    "pycharm": {
     "name": "#%% md\n"
    }
   },
   "source": [
    "### 计算准确率 (Accuracy)"
   ]
  },
  {
   "cell_type": "code",
   "execution_count": 16,
   "metadata": {
    "collapsed": false,
    "jupyter": {
     "outputs_hidden": false
    },
    "pycharm": {
     "name": "#%%\n"
    },
    "tags": []
   },
   "outputs": [],
   "source": [
    "sample_size = 10\n",
    "prompts_batch = [\"\\n\".join([instruction, \"Comment:\" + comment, \"Satisfied:\"]) for comment in comments[:sample_size]]\n",
    "results = model.generate_text(prompt=prompts_batch)"
   ]
  },
  {
   "cell_type": "code",
   "execution_count": 17,
   "metadata": {
    "collapsed": false,
    "jupyter": {
     "outputs_hidden": false
    },
    "pycharm": {
     "name": "#%%\n"
    },
    "tags": []
   },
   "outputs": [
    {
     "name": "stdout",
     "output_type": "stream",
     "text": [
      "Determine if the customer was satisfied with the experience based on the comment. Return simple yes or no.\n",
      "Comment:The car was broken. They couldn't find a replacement. I've waster over 2 hours.\n",
      "Satisfied:no\n",
      "Comment:they were fine.\n",
      "Satisfied:no\n"
     ]
    }
   ],
   "source": [
    "print(prompts_batch[0] + results[0])"
   ]
  },
  {
   "cell_type": "code",
   "execution_count": 18,
   "metadata": {
    "collapsed": false,
    "jupyter": {
     "outputs_hidden": false
    },
    "pycharm": {
     "name": "#%%\n"
    },
    "tags": []
   },
   "outputs": [
    {
     "name": "stdout",
     "output_type": "stream",
     "text": [
      "accuracy_score 0.7\n"
     ]
    }
   ],
   "source": [
    "from sklearn.metrics import accuracy_score\n",
    "\n",
    "label_map = {0: \"no\", 1: \"yes\"}\n",
    "y_true = [label_map[sat] for sat in satisfaction][:sample_size]\n",
    "\n",
    "print('accuracy_score', accuracy_score(y_true, results))"
   ]
  },
  {
   "cell_type": "code",
   "execution_count": 19,
   "metadata": {
    "collapsed": false,
    "jupyter": {
     "outputs_hidden": false
    },
    "pycharm": {
     "name": "#%%\n"
    },
    "tags": []
   },
   "outputs": [
    {
     "name": "stdout",
     "output_type": "stream",
     "text": [
      "true ['yes', 'yes', 'yes', 'no', 'no', 'yes', 'yes', 'no', 'no', 'no'] \n",
      "pred ['no', 'yes', 'yes', 'no', 'no', 'no', 'yes', 'no', 'yes', 'no']\n"
     ]
    }
   ],
   "source": [
    "print('true', y_true, '\\npred', results)"
   ]
  },
  {
   "cell_type": "markdown",
   "metadata": {},
   "source": [
    "## 分析中文数据的用户满意度"
   ]
  },
  {
   "cell_type": "markdown",
   "metadata": {},
   "source": [
    "#### 数据导入"
   ]
  },
  {
   "cell_type": "code",
   "execution_count": 37,
   "metadata": {
    "tags": []
   },
   "outputs": [
    {
     "data": {
      "text/html": [
       "<div>\n",
       "<style scoped>\n",
       "    .dataframe tbody tr th:only-of-type {\n",
       "        vertical-align: middle;\n",
       "    }\n",
       "\n",
       "    .dataframe tbody tr th {\n",
       "        vertical-align: top;\n",
       "    }\n",
       "\n",
       "    .dataframe thead th {\n",
       "        text-align: right;\n",
       "    }\n",
       "</style>\n",
       "<table border=\"1\" class=\"dataframe\">\n",
       "  <thead>\n",
       "    <tr style=\"text-align: right;\">\n",
       "      <th></th>\n",
       "      <th>ID</th>\n",
       "      <th>Gender</th>\n",
       "      <th>Status</th>\n",
       "      <th>Children</th>\n",
       "      <th>Age</th>\n",
       "      <th>Customer_Status</th>\n",
       "      <th>Car_Owner</th>\n",
       "      <th>Customer_Service</th>\n",
       "      <th>Customer_Service_CN</th>\n",
       "      <th>Satisfaction</th>\n",
       "      <th>Business_Area</th>\n",
       "      <th>Action</th>\n",
       "    </tr>\n",
       "  </thead>\n",
       "  <tbody>\n",
       "    <tr>\n",
       "      <th>0</th>\n",
       "      <td>83</td>\n",
       "      <td>Female</td>\n",
       "      <td>M</td>\n",
       "      <td>2</td>\n",
       "      <td>48.85</td>\n",
       "      <td>Inactive</td>\n",
       "      <td>Yes</td>\n",
       "      <td>I thought the representative handled the initi...</td>\n",
       "      <td>我认为这位代表对最初情况的处理很糟糕。公司没有车了，当天也没有车进来。然后代表试图在另一家特...</td>\n",
       "      <td>0</td>\n",
       "      <td>Product: Availability/Variety/Size</td>\n",
       "      <td>Free Upgrade</td>\n",
       "    </tr>\n",
       "    <tr>\n",
       "      <th>1</th>\n",
       "      <td>1307</td>\n",
       "      <td>Female</td>\n",
       "      <td>M</td>\n",
       "      <td>0</td>\n",
       "      <td>55.00</td>\n",
       "      <td>Inactive</td>\n",
       "      <td>No</td>\n",
       "      <td>I have had a few recent rentals that have take...</td>\n",
       "      <td>我最近有几次出租花了很长时间，而且没有道歉。在最近的案例中，代理商随后在升级优惠券上向我提供...</td>\n",
       "      <td>0</td>\n",
       "      <td>Product: Availability/Variety/Size</td>\n",
       "      <td>Voucher</td>\n",
       "    </tr>\n",
       "    <tr>\n",
       "      <th>2</th>\n",
       "      <td>1737</td>\n",
       "      <td>Male</td>\n",
       "      <td>M</td>\n",
       "      <td>0</td>\n",
       "      <td>42.35</td>\n",
       "      <td>Inactive</td>\n",
       "      <td>Yes</td>\n",
       "      <td>car cost more because I didn't pay when I rese...</td>\n",
       "      <td>车费比较高，因为我预订的时候没有付钱</td>\n",
       "      <td>0</td>\n",
       "      <td>Product: Availability/Variety/Size</td>\n",
       "      <td>Free Upgrade</td>\n",
       "    </tr>\n",
       "    <tr>\n",
       "      <th>3</th>\n",
       "      <td>3721</td>\n",
       "      <td>Male</td>\n",
       "      <td>M</td>\n",
       "      <td>2</td>\n",
       "      <td>61.71</td>\n",
       "      <td>Inactive</td>\n",
       "      <td>Yes</td>\n",
       "      <td>I didn't get the car I was told would be avail...</td>\n",
       "      <td>我没有得到我被告知可以使用的汽车。我的报价中添加了一些隐藏费用。</td>\n",
       "      <td>0</td>\n",
       "      <td>Product: Availability/Variety/Size</td>\n",
       "      <td>Free Upgrade</td>\n",
       "    </tr>\n",
       "    <tr>\n",
       "      <th>4</th>\n",
       "      <td>11</td>\n",
       "      <td>Male</td>\n",
       "      <td>S</td>\n",
       "      <td>2</td>\n",
       "      <td>56.47</td>\n",
       "      <td>Active</td>\n",
       "      <td>No</td>\n",
       "      <td>If there was not a desired vehicle available t...</td>\n",
       "      <td>如果没有所需的可用车辆，销售代表会探索所有选项，包括竞争对手来协助寻找可用车辆。这种水平的服...</td>\n",
       "      <td>1</td>\n",
       "      <td>Product: Availability/Variety/Size</td>\n",
       "      <td>NaN</td>\n",
       "    </tr>\n",
       "  </tbody>\n",
       "</table>\n",
       "</div>"
      ],
      "text/plain": [
       "     ID  Gender Status  Children    Age Customer_Status Car_Owner  \\\n",
       "0    83  Female      M         2  48.85        Inactive       Yes   \n",
       "1  1307  Female      M         0  55.00        Inactive        No   \n",
       "2  1737    Male      M         0  42.35        Inactive       Yes   \n",
       "3  3721    Male      M         2  61.71        Inactive       Yes   \n",
       "4    11    Male      S         2  56.47          Active        No   \n",
       "\n",
       "                                    Customer_Service  \\\n",
       "0  I thought the representative handled the initi...   \n",
       "1  I have had a few recent rentals that have take...   \n",
       "2  car cost more because I didn't pay when I rese...   \n",
       "3  I didn't get the car I was told would be avail...   \n",
       "4  If there was not a desired vehicle available t...   \n",
       "\n",
       "                                 Customer_Service_CN  Satisfaction  \\\n",
       "0  我认为这位代表对最初情况的处理很糟糕。公司没有车了，当天也没有车进来。然后代表试图在另一家特...             0   \n",
       "1  我最近有几次出租花了很长时间，而且没有道歉。在最近的案例中，代理商随后在升级优惠券上向我提供...             0   \n",
       "2                                 车费比较高，因为我预订的时候没有付钱             0   \n",
       "3                   我没有得到我被告知可以使用的汽车。我的报价中添加了一些隐藏费用。             0   \n",
       "4  如果没有所需的可用车辆，销售代表会探索所有选项，包括竞争对手来协助寻找可用车辆。这种水平的服...             1   \n",
       "\n",
       "                        Business_Area        Action  \n",
       "0  Product: Availability/Variety/Size  Free Upgrade  \n",
       "1  Product: Availability/Variety/Size       Voucher  \n",
       "2  Product: Availability/Variety/Size  Free Upgrade  \n",
       "3  Product: Availability/Variety/Size  Free Upgrade  \n",
       "4  Product: Availability/Variety/Size           NaN  "
      ]
     },
     "execution_count": 37,
     "metadata": {},
     "output_type": "execute_result"
    }
   ],
   "source": [
    "data_cn = pd.read_csv(\"car_rental_training_data_CN.csv\")\n",
    "data_cn.head()"
   ]
  },
  {
   "cell_type": "code",
   "execution_count": 38,
   "metadata": {
    "tags": []
   },
   "outputs": [],
   "source": [
    "train, test = train_test_split(data_cn, test_size=0.2)\n",
    "comments = list(test.Customer_Service_CN)\n",
    "satisfaction = list(test.Satisfaction)"
   ]
  },
  {
   "cell_type": "markdown",
   "metadata": {},
   "source": [
    "#### 初始化模型"
   ]
  },
  {
   "cell_type": "code",
   "execution_count": 39,
   "metadata": {
    "tags": []
   },
   "outputs": [],
   "source": [
    "model_id = ModelTypes.LLAMA_2_70B_CHAT\n",
    "model = Model(\n",
    "    model_id=model_id, \n",
    "    params=parameters, \n",
    "    credentials=credentials,\n",
    "    project_id=project_id)"
   ]
  },
  {
   "cell_type": "markdown",
   "metadata": {},
   "source": [
    "#### 准备提示并生成文本"
   ]
  },
  {
   "cell_type": "code",
   "execution_count": 45,
   "metadata": {
    "tags": []
   },
   "outputs": [],
   "source": [
    "instruction = \"\"\"基于给出的评论判断用户对这次体验是否满意。仅回答是或否。\n",
    "输入: 这辆车坏了。他们不能找到替代方案。我浪费了两个小时。\n",
    "输出: 否\n",
    "输入: 客户服务非常有帮助。他们知道我正在探望我 91 岁的母亲，并免费升级了一辆对她来说更舒适的汽车。\n",
    "输出: 是\"\"\""
   ]
  },
  {
   "cell_type": "code",
   "execution_count": 46,
   "metadata": {
    "tags": []
   },
   "outputs": [
    {
     "name": "stdout",
     "output_type": "stream",
     "text": [
      "基于给出的评论判断用户对这次体验是否满意。仅回答是或否。\n",
      "输入: 这辆车坏了。他们不能找到替代方案。我浪费了两个小时。\n",
      "输出: 否\n",
      "输入: 客户服务非常有帮助。他们知道我正在探望我 91 岁的母亲，并免费升级了一辆对她来说更舒适的汽车。\n",
      "输出: 是\n",
      "输入: 我们花了将近三个小时才拿到车！这太荒谬了。\n",
      "输出: \n"
     ]
    }
   ],
   "source": [
    "prompt1 = \"\\n\".join([instruction, \"输入: \" + comments[2], \"输出: \"])\n",
    "print(prompt1)"
   ]
  },
  {
   "cell_type": "code",
   "execution_count": 47,
   "metadata": {
    "tags": []
   },
   "outputs": [
    {
     "name": "stdout",
     "output_type": "stream",
     "text": [
      "否\n"
     ]
    }
   ],
   "source": [
    "print(model.generate_text(prompt=prompt1))"
   ]
  },
  {
   "cell_type": "markdown",
   "metadata": {},
   "source": [
    "#### 计算准确率"
   ]
  },
  {
   "cell_type": "code",
   "execution_count": 48,
   "metadata": {
    "tags": []
   },
   "outputs": [],
   "source": [
    "sample_size = 10\n",
    "prompts_batch = [\"\\n\".join([instruction, \"输入: \" + comment, \"输出: \"]) for comment in comments[:10]]\n",
    "results = model.generate_text(prompt=prompts_batch)"
   ]
  },
  {
   "cell_type": "code",
   "execution_count": 49,
   "metadata": {
    "tags": []
   },
   "outputs": [
    {
     "name": "stdout",
     "output_type": "stream",
     "text": [
      "accuracy_score 0.9\n"
     ]
    }
   ],
   "source": [
    "from sklearn.metrics import accuracy_score\n",
    "\n",
    "label_map = {0: \"否\", 1: \"是\"}\n",
    "y_true = [label_map[sat] for sat in satisfaction][:sample_size]\n",
    "\n",
    "print('accuracy_score', accuracy_score(y_true, results))"
   ]
  },
  {
   "cell_type": "markdown",
   "metadata": {
    "pycharm": {
     "name": "#%% md\n"
    }
   },
   "source": [
    "<a id=\"summary\"></a>\n",
    "## 总结和下一步\n",
    "\n",
    " 你顺利完成了这篇notebook！\n",
    " \n",
    " 你学到了如何通过watsonx.ai的基础大模型分析租车用户满意度。\n",
    " \n",
    " Check out our _[Online Documentation]()_ for more samples, tutorials, documentation, how-tos, and blog posts. "
   ]
  },
  {
   "cell_type": "markdown",
   "metadata": {
    "pycharm": {
     "name": "#%% md\n"
    }
   },
   "source": [
    "### 作者\n",
    "\n",
    "**Mateusz Szewczyk**, Software Engineer at Watson Machine Learning.\n",
    "\n",
    "**Lukasz Cmielowski**, PhD, is an Automation Architect and Data Scientist at IBM with a track record of developing enterprise-level applications that substantially increases clients' ability to turn data into actionable knowledge."
   ]
  },
  {
   "cell_type": "markdown",
   "metadata": {
    "pycharm": {
     "name": "#%% md\n"
    }
   },
   "source": [
    "Copyright © 2023 IBM. This notebook and its source code are released under the terms of the MIT License."
   ]
  }
 ],
 "metadata": {
  "kernelspec": {
   "display_name": "Python 3 (ipykernel)",
   "language": "python",
   "name": "python3"
  },
  "language_info": {
   "codemirror_mode": {
    "name": "ipython",
    "version": 3
   },
   "file_extension": ".py",
   "mimetype": "text/x-python",
   "name": "python",
   "nbconvert_exporter": "python",
   "pygments_lexer": "ipython3",
   "version": "3.11.4"
  }
 },
 "nbformat": 4,
 "nbformat_minor": 4
}
